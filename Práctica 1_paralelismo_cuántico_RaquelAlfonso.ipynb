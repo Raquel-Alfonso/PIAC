{
 "cells": [
  {
   "cell_type": "markdown",
   "id": "LqYJr7Ae69iw",
   "metadata": {
    "id": "LqYJr7Ae69iw"
   },
   "source": [
    "# **RAQUEL ALFONSO RODRÍGUEZ**"
   ]
  },
  {
   "cell_type": "markdown",
   "id": "997c8bca",
   "metadata": {
    "id": "997c8bca"
   },
   "source": [
    "# Práctica 1: paralelismo cuántico\n",
    "\n",
    "Utiliza el paralelismo cuántico para evaluar una función $f(x) = f(\\{x_{n-1},x_{n-2},\\ldots,x_0\\}) \\rightarrow \\{0,1\\}$, con $x_i \\in \\{0,1\\}$, que verifique:\n",
    "\n",
    "$$\n",
    "f(x) =\n",
    "\\begin{cases}\n",
    "1, \\text{si } x \\text{ es par}\\\\\n",
    "0, \\text{si } x \\text{ es impar}\\\\\n",
    "\\end{cases}\n",
    "$$\n",
    "\n",
    "Crea un circuito en Qiskit para $n=2$."
   ]
  },
  {
   "cell_type": "markdown",
   "id": "zOo-mzsrIJuV",
   "metadata": {
    "id": "zOo-mzsrIJuV"
   },
   "source": [
    "### **SOLUCIÓN**\n",
    "\n",
    "Tenemos una función que toma dos variables de entrada $x_1, x_2$ y devuelve una salida $f(x_1, x_2)$. Esto en qubits se traduce como un estado $|y x_1 x_2\\rangle$ que se transforma en $|y \\oplus f(x_1, x_2), x_1 x_2\\rangle$. Por tanto, trabajaremos con una matriz asociada a $f(x)$ que tiene $2^3 \\times 2^3$ elementos.\n",
    "\n",
    "$$\n",
    "U_{f} =\n",
    "\\begin{bmatrix}\n",
    "0 & 0 & 0 & 0 & 1 & 0 & 0 & 0\\\\\n",
    "0 & 1 & 0 & 0 & 0 & 0 & 0 & 0\\\\\n",
    "0 & 0 & 0 & 0 & 0 & 0 & 1 & 0\\\\\n",
    "0 & 0 & 0 & 1 & 0 & 0 & 0 & 0\\\\\n",
    "1 & 0 & 0 & 0 & 0 & 0 & 0 & 0\\\\\n",
    "0 & 0 & 0 & 0 & 0 & 1 & 0 & 0\\\\\n",
    "0 & 0 & 1 & 0 & 0 & 0 & 0 & 0\\\\\n",
    "0 & 0 & 0 & 0 & 0 & 0 & 0 & 1\\end{bmatrix}\n",
    "$$\n",
    "\n",
    "$f$ toma el valor $1$ si $x=x_1 x_2$ es par. Eso quiere decir que el qubit de control es $x_2$, pues si $x_2=0$, entonces $x$ es par y si $x_2=1$, $x$ es impar. Pondremos una negación en el qubit $x_2$ y una puerta CNOT para cambiar el valor de $y$ de manera acorde."
   ]
  },
  {
   "cell_type": "code",
   "execution_count": 4,
   "id": "njOtYokuM37J",
   "metadata": {
    "colab": {
     "base_uri": "https://localhost:8080/"
    },
    "collapsed": true,
    "id": "njOtYokuM37J",
    "outputId": "f084fbb7-82f8-429b-a735-1a79027c92ab"
   },
   "outputs": [
    {
     "name": "stdout",
     "output_type": "stream",
     "text": [
      "Requirement already satisfied: qiskit in /usr/local/lib/python3.10/dist-packages (1.2.4)\n",
      "Requirement already satisfied: qiskit-aer in /usr/local/lib/python3.10/dist-packages (0.15.1)\n",
      "Requirement already satisfied: pylatexenc in /usr/local/lib/python3.10/dist-packages (2.10)\n",
      "Requirement already satisfied: rustworkx>=0.15.0 in /usr/local/lib/python3.10/dist-packages (from qiskit) (0.15.1)\n",
      "Requirement already satisfied: numpy<3,>=1.17 in /usr/local/lib/python3.10/dist-packages (from qiskit) (1.26.4)\n",
      "Requirement already satisfied: scipy>=1.5 in /usr/local/lib/python3.10/dist-packages (from qiskit) (1.13.1)\n",
      "Requirement already satisfied: sympy>=1.3 in /usr/local/lib/python3.10/dist-packages (from qiskit) (1.13.1)\n",
      "Requirement already satisfied: dill>=0.3 in /usr/local/lib/python3.10/dist-packages (from qiskit) (0.3.9)\n",
      "Requirement already satisfied: python-dateutil>=2.8.0 in /usr/local/lib/python3.10/dist-packages (from qiskit) (2.8.2)\n",
      "Requirement already satisfied: stevedore>=3.0.0 in /usr/local/lib/python3.10/dist-packages (from qiskit) (5.3.0)\n",
      "Requirement already satisfied: typing-extensions in /usr/local/lib/python3.10/dist-packages (from qiskit) (4.12.2)\n",
      "Requirement already satisfied: symengine<0.14,>=0.11 in /usr/local/lib/python3.10/dist-packages (from qiskit) (0.13.0)\n",
      "Requirement already satisfied: psutil>=5 in /usr/local/lib/python3.10/dist-packages (from qiskit-aer) (5.9.5)\n",
      "Requirement already satisfied: six>=1.5 in /usr/local/lib/python3.10/dist-packages (from python-dateutil>=2.8.0->qiskit) (1.16.0)\n",
      "Requirement already satisfied: pbr>=2.0.0 in /usr/local/lib/python3.10/dist-packages (from stevedore>=3.0.0->qiskit) (6.1.0)\n",
      "Requirement already satisfied: mpmath<1.4,>=1.1.0 in /usr/local/lib/python3.10/dist-packages (from sympy>=1.3->qiskit) (1.3.0)\n"
     ]
    }
   ],
   "source": [
    "### PREÁMBULO ###\n",
    "!pip install qiskit qiskit-aer pylatexenc"
   ]
  },
  {
   "cell_type": "code",
   "execution_count": 3,
   "id": "bLG0_EeEM91b",
   "metadata": {
    "id": "bLG0_EeEM91b"
   },
   "outputs": [],
   "source": [
    "import numpy as np\n",
    "from math import sqrt\n",
    "\n",
    "# importing Qiskit\n",
    "from qiskit import QuantumCircuit, QuantumRegister, ClassicalRegister, transpile\n",
    "from qiskit.quantum_info import Statevector\n",
    "from qiskit_aer import AerSimulator\n",
    "# import basic plot tools\n",
    "from qiskit.visualization import plot_histogram\n",
    "\n",
    "# Funciones auxiliares\n",
    "\n",
    "# Función para simular y mostrar el vector de estado\n",
    "def obten_estado(qcirc, etiqueta=\"|\\psi\\!\\!> = \", bloch=False):\n",
    "    # Usamos el simulador de vector de estado\n",
    "    # https://qiskit.github.io/qiskit-aer/stubs/qiskit_aer.AerSimulator.html\n",
    "    sim = AerSimulator(method='statevector')\n",
    "    qc_obj = transpile(qcirc, sim)\n",
    "    result = sim.run(qc_obj).result()\n",
    "    estado = result.get_statevector()\n",
    "    display(estado.draw('latex', prefix=etiqueta))\n",
    "    if bloch:\n",
    "      display(estado.draw('bloch'))\n",
    "\n",
    "# Funcion para obtener y mostrar la matriz unitaria\n",
    "def obten_unitaria(qcirc, etiqueta):\n",
    "    # Usamos el simulador de matriz unitaria\n",
    "    sim_u = AerSimulator(method='unitary')\n",
    "    qc_obj = transpile(qcirc, sim_u)\n",
    "    result = sim_u.run(qcirc).result()\n",
    "    unitary = result.get_unitary(qcirc)\n",
    "    display(unitary.draw('latex', prefix=etiqueta))"
   ]
  },
  {
   "cell_type": "code",
   "execution_count": 8,
   "id": "da3ba798",
   "metadata": {
    "colab": {
     "base_uri": "https://localhost:8080/",
     "height": 418
    },
    "id": "da3ba798",
    "outputId": "6f82a781-7337-4d5e-e0cd-658f83ad677a"
   },
   "outputs": [
    {
     "data": {
      "text/latex": [
       "$$\n",
       "U_{f} = \n",
       "\\begin{bmatrix}\n",
       "0 & 0 & 0 & 0 & 1 & 0 & 0 & 0  \\\\\n",
       " 0 & 1 & 0 & 0 & 0 & 0 & 0 & 0  \\\\\n",
       " 0 & 0 & 0 & 0 & 0 & 0 & 1 & 0  \\\\\n",
       " 0 & 0 & 0 & 1 & 0 & 0 & 0 & 0  \\\\\n",
       " 1 & 0 & 0 & 0 & 0 & 0 & 0 & 0  \\\\\n",
       " 0 & 0 & 0 & 0 & 0 & 1 & 0 & 0  \\\\\n",
       " 0 & 0 & 1 & 0 & 0 & 0 & 0 & 0  \\\\\n",
       " 0 & 0 & 0 & 0 & 0 & 0 & 0 & 1  \\\\\n",
       " \\end{bmatrix}\n",
       "$$"
      ],
      "text/plain": [
       "<IPython.core.display.Latex object>"
      ]
     },
     "metadata": {},
     "output_type": "display_data"
    },
    {
     "data": {
      "image/png": "[encoded data removed]",
      "text/plain": [
       "<Figure size 577.195x284.278 with 1 Axes>"
      ]
     },
     "execution_count": 8,
     "metadata": {},
     "output_type": "execute_result"
    }
   ],
   "source": [
    "# Circuito cuántico\n",
    "\n",
    "x2 = QuantumRegister(1, name=\"|x_2\\\\rangle\")\n",
    "x1 = QuantumRegister(1, name=\"|x_1\\\\rangle\")\n",
    "y = QuantumRegister(1, name=\"|y\\\\rangle\")\n",
    "qc = QuantumCircuit(x2, x1,y)\n",
    "\n",
    "qc.x(x2)\n",
    "qc.cx(x2,y)\n",
    "qc.x(x2)    #deshacemos el cambio en x_2 para preservar su valor\n",
    "qc.save_unitary()\n",
    "obten_unitaria(qc, \"U_{f} = \")\n",
    "qc.draw('mpl')"
   ]
  },
  {
   "cell_type": "code",
   "execution_count": 9,
   "id": "cgqYJD2DM0aX",
   "metadata": {
    "id": "cgqYJD2DM0aX"
   },
   "outputs": [],
   "source": [
    "# Hacemos también una función con el oráculo asociado a este circuito\n",
    "\n",
    "# Oráculo para f\n",
    "def f_oraculo():\n",
    "\n",
    "    x2 = QuantumRegister(1, name=\"|x_2\\\\rangle\")\n",
    "    x1 = QuantumRegister(1, name=\"|x_1\\\\rangle\")\n",
    "    y = QuantumRegister(1, name=\"|y\\\\rangle\")\n",
    "    qc = QuantumCircuit(x2, x1,y)\n",
    "\n",
    "    qc.x(x2)\n",
    "    qc.cx(x2,y)\n",
    "    qc.x(x2)\n",
    "\n",
    "    oraculo = qc.to_gate()\n",
    "    oraculo.name = \"$U_{f}$\"\n",
    "    return(oraculo)"
   ]
  },
  {
   "cell_type": "code",
   "execution_count": 13,
   "id": "cHVL0YuTOFcu",
   "metadata": {
    "colab": {
     "base_uri": "https://localhost:8080/",
     "height": 277
    },
    "id": "cHVL0YuTOFcu",
    "outputId": "40d19e44-74f7-425e-b327-cf3ed4d889d3"
   },
   "outputs": [
    {
     "data": {
      "text/latex": [
       "$$|\\psi\\!\\!> = \\frac{1}{2} |001\\rangle+\\frac{1}{2} |011\\rangle+\\frac{1}{2} |100\\rangle+\\frac{1}{2} |110\\rangle$$"
      ],
      "text/plain": [
       "<IPython.core.display.Latex object>"
      ]
     },
     "metadata": {},
     "output_type": "display_data"
    },
    {
     "data": {
      "image/png": "[encoded data removed]",
      "text/plain": [
       "<Figure size 660.806x284.278 with 1 Axes>"
      ]
     },
     "execution_count": 13,
     "metadata": {},
     "output_type": "execute_result"
    }
   ],
   "source": [
    "# Ponemos los qubits en superposición y comprobamos el oráculo\n",
    "\n",
    "x2 = QuantumRegister(1, name=\"|x_2\\\\rangle\")\n",
    "x1 = QuantumRegister(1, name=\"|x_1\\\\rangle\")\n",
    "y = QuantumRegister(1, name=\"|y\\\\rangle\")\n",
    "qc = QuantumCircuit(x2, x1,y)\n",
    "\n",
    "estado_mas = Statevector([1/sqrt(2), 1/sqrt(2)])\n",
    "qc.initialize(estado_mas,x1)\n",
    "qc.initialize(estado_mas,x2)\n",
    "\n",
    "# Añadimos el oráculo\n",
    "qc = qc.compose(f_oraculo())\n",
    "\n",
    "#Indicamos que queremos ver el vector de estado en este punto\n",
    "qc.save_statevector()\n",
    "obten_estado(qc)\n",
    "qc.draw('mpl')"
   ]
  },
  {
   "cell_type": "code",
   "execution_count": null,
   "id": "NE-NZRUOOXGU",
   "metadata": {
    "id": "NE-NZRUOOXGU"
   },
   "outputs": [],
   "source": []
  }
 ],
 "metadata": {
  "colab": {
   "provenance": []
  },
  "kernelspec": {
   "display_name": "Python 3 (ipykernel)",
   "language": "python",
   "name": "python3"
  },
  "language_info": {
   "codemirror_mode": {
    "name": "ipython",
    "version": 3
   },
   "file_extension": ".py",
   "mimetype": "text/x-python",
   "name": "python",
   "nbconvert_exporter": "python",
   "pygments_lexer": "ipython3",
   "version": "3.9.18"
  }
 },
 "nbformat": 4,
 "nbformat_minor": 5
}
